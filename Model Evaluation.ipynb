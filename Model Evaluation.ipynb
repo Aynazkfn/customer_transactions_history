{
 "cells": [
  {
   "cell_type": "code",
   "execution_count": 18,
   "metadata": {},
   "outputs": [],
   "source": [
    "import joblib\n",
    "import pandas as pd\n",
    "import numpy as np"
   ]
  },
  {
   "cell_type": "code",
   "execution_count": 46,
   "metadata": {},
   "outputs": [
    {
     "name": "stderr",
     "output_type": "stream",
     "text": [
      "C:\\Users\\20190041\\AppData\\Local\\Continuum\\anaconda3\\envs\\tensorflow-sessions\\lib\\site-packages\\ipykernel_launcher.py:12: SettingWithCopyWarning: \n",
      "A value is trying to be set on a copy of a slice from a DataFrame.\n",
      "Try using .loc[row_indexer,col_indexer] = value instead\n",
      "\n",
      "See the caveats in the documentation: http://pandas.pydata.org/pandas-docs/stable/user_guide/indexing.html#returning-a-view-versus-a-copy\n",
      "  if sys.path[0] == '':\n",
      "C:\\Users\\20190041\\AppData\\Local\\Continuum\\anaconda3\\envs\\tensorflow-sessions\\lib\\site-packages\\ipykernel_launcher.py:15: SettingWithCopyWarning: \n",
      "A value is trying to be set on a copy of a slice from a DataFrame.\n",
      "Try using .loc[row_indexer,col_indexer] = value instead\n",
      "\n",
      "See the caveats in the documentation: http://pandas.pydata.org/pandas-docs/stable/user_guide/indexing.html#returning-a-view-versus-a-copy\n",
      "  from ipykernel import kernelapp as app\n",
      "C:\\Users\\20190041\\AppData\\Local\\Continuum\\anaconda3\\envs\\tensorflow-sessions\\lib\\site-packages\\ipykernel_launcher.py:16: SettingWithCopyWarning: \n",
      "A value is trying to be set on a copy of a slice from a DataFrame.\n",
      "Try using .loc[row_indexer,col_indexer] = value instead\n",
      "\n",
      "See the caveats in the documentation: http://pandas.pydata.org/pandas-docs/stable/user_guide/indexing.html#returning-a-view-versus-a-copy\n",
      "  app.launch_new_instance()\n"
     ]
    }
   ],
   "source": [
    "df1 = pd.read_csv('transactions_1.csv')\n",
    "df2 = pd.read_csv('transactions_2.csv')\n",
    "\n",
    "# Concatenating two datasets\n",
    "df = pd.concat ([df1,df2], axis=0, ignore_index=True).drop(['Unnamed: 0'], axis=1)\n",
    "# Converting date column to standard format\n",
    "df['date']= pd.to_datetime(df['date']).dt.strftime('%Y-%m-%d')\n",
    "# Filter on one customer\n",
    "sales = df[df['customer_id'] == 8649525]\n",
    "\n",
    "# monthly sales to customer \"8649525\"\n",
    "sales['date'] = pd.to_datetime(sales['date'])\n",
    "\n",
    "#represent month in date field as its first day\n",
    "sales['date'] = sales['date'].dt.year.astype('str') + '-' + sales['date'].dt.month.astype('str') + '-01'\n",
    "sales['date'] = pd.to_datetime(sales['date'])\n",
    "#groupby date and sum the sales\n",
    "sales = sales.groupby('date').size().reset_index()\n",
    "sales.columns = ['date', 'order_count']\n",
    "y = sales.set_index('date')"
   ]
  },
  {
   "cell_type": "code",
   "execution_count": 53,
   "metadata": {},
   "outputs": [
    {
     "name": "stdout",
     "output_type": "stream",
     "text": [
      "2019-01-01     969.0\n",
      "2019-02-01    1025.0\n",
      "2019-03-01    1226.0\n",
      "2019-04-01     726.0\n",
      "2019-05-01     648.0\n",
      "2019-06-01    1525.0\n",
      "2019-07-01    1049.0\n",
      "2019-08-01    1362.0\n",
      "2019-09-01     268.0\n",
      "2019-10-01     685.0\n",
      "2019-11-01     207.0\n",
      "2019-12-01     253.0\n",
      "2020-01-01     676.0\n",
      "2020-02-01     335.0\n",
      "2020-03-01     375.0\n",
      "Freq: MS, Name: predicted_mean, dtype: float64\n"
     ]
    }
   ],
   "source": [
    "# load the model from disk\n",
    "loaded_model = joblib.load('finalized_model.sav')\n",
    "pred = loaded_model.get_prediction(start=pd.to_datetime('2019-01-01'), dynamic=False)\n",
    "result= np.round(pred.predicted_mean, decimals=0)\n",
    "print(result)"
   ]
  },
  {
   "cell_type": "code",
   "execution_count": 54,
   "metadata": {},
   "outputs": [
    {
     "name": "stdout",
     "output_type": "stream",
     "text": [
      "The Mean Squared Error is 106912.87\n",
      "The Root Mean Squared Error is 326.98\n"
     ]
    }
   ],
   "source": [
    "# We used RMSE as the metric to measure the performance of the model\n",
    "\n",
    "y_forecasted = pred.predicted_mean\n",
    "y_truth = y['order_count']['2019-01-01':]\n",
    "mse = ((y_forecasted - y_truth) ** 2).mean()\n",
    "print('The Mean Squared Error is {}'.format(round(mse, 2)))\n",
    "print('The Root Mean Squared Error is {}'.format(round(np.sqrt(mse), 2)))"
   ]
  }
 ],
 "metadata": {
  "kernelspec": {
   "display_name": "Python 3",
   "language": "python",
   "name": "python3"
  },
  "language_info": {
   "codemirror_mode": {
    "name": "ipython",
    "version": 3
   },
   "file_extension": ".py",
   "mimetype": "text/x-python",
   "name": "python",
   "nbconvert_exporter": "python",
   "pygments_lexer": "ipython3",
   "version": "3.7.1"
  }
 },
 "nbformat": 4,
 "nbformat_minor": 2
}
